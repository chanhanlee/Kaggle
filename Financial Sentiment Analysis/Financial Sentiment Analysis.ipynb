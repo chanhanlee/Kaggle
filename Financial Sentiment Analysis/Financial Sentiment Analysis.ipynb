{
 "cells": [
  {
   "cell_type": "code",
   "execution_count": 1,
   "metadata": {},
   "outputs": [
    {
     "name": "stderr",
     "output_type": "stream",
     "text": [
      "d:\\Users\\hanklee\\anaconda3\\envs\\sst\\lib\\site-packages\\tqdm\\auto.py:21: TqdmWarning: IProgress not found. Please update jupyter and ipywidgets. See https://ipywidgets.readthedocs.io/en/stable/user_install.html\n",
      "  from .autonotebook import tqdm as notebook_tqdm\n"
     ]
    },
    {
     "name": "stdout",
     "output_type": "stream",
     "text": [
      "True\n",
      "0\n",
      "<torch.cuda.device object at 0x00000191B9985660>\n"
     ]
    }
   ],
   "source": [
    "import torch\n",
    "print(torch.cuda.is_available())\n",
    "print(torch.cuda.current_device())\n",
    "print(torch.cuda.device(0))"
   ]
  },
  {
   "attachments": {},
   "cell_type": "markdown",
   "metadata": {},
   "source": [
    "# DATA"
   ]
  },
  {
   "cell_type": "code",
   "execution_count": 5,
   "metadata": {},
   "outputs": [],
   "source": [
    "df=pd.read_csv('Financial Sentiment Analysis.csv')"
   ]
  },
  {
   "cell_type": "code",
   "execution_count": 6,
   "metadata": {},
   "outputs": [
    {
     "data": {
      "text/html": [
       "<div>\n",
       "<style scoped>\n",
       "    .dataframe tbody tr th:only-of-type {\n",
       "        vertical-align: middle;\n",
       "    }\n",
       "\n",
       "    .dataframe tbody tr th {\n",
       "        vertical-align: top;\n",
       "    }\n",
       "\n",
       "    .dataframe thead th {\n",
       "        text-align: right;\n",
       "    }\n",
       "</style>\n",
       "<table border=\"1\" class=\"dataframe\">\n",
       "  <thead>\n",
       "    <tr style=\"text-align: right;\">\n",
       "      <th></th>\n",
       "      <th>Sentence</th>\n",
       "      <th>Sentiment</th>\n",
       "    </tr>\n",
       "  </thead>\n",
       "  <tbody>\n",
       "    <tr>\n",
       "      <th>0</th>\n",
       "      <td>The GeoSolutions technology will leverage Bene...</td>\n",
       "      <td>positive</td>\n",
       "    </tr>\n",
       "    <tr>\n",
       "      <th>1</th>\n",
       "      <td>$ESI on lows, down $1.50 to $2.50 BK a real po...</td>\n",
       "      <td>negative</td>\n",
       "    </tr>\n",
       "    <tr>\n",
       "      <th>2</th>\n",
       "      <td>For the last quarter of 2010 , Componenta 's n...</td>\n",
       "      <td>positive</td>\n",
       "    </tr>\n",
       "    <tr>\n",
       "      <th>3</th>\n",
       "      <td>According to the Finnish-Russian Chamber of Co...</td>\n",
       "      <td>neutral</td>\n",
       "    </tr>\n",
       "    <tr>\n",
       "      <th>4</th>\n",
       "      <td>The Swedish buyout firm has sold its remaining...</td>\n",
       "      <td>neutral</td>\n",
       "    </tr>\n",
       "    <tr>\n",
       "      <th>...</th>\n",
       "      <td>...</td>\n",
       "      <td>...</td>\n",
       "    </tr>\n",
       "    <tr>\n",
       "      <th>5837</th>\n",
       "      <td>RISING costs have forced packaging producer Hu...</td>\n",
       "      <td>negative</td>\n",
       "    </tr>\n",
       "    <tr>\n",
       "      <th>5838</th>\n",
       "      <td>Nordic Walking was first used as a summer trai...</td>\n",
       "      <td>neutral</td>\n",
       "    </tr>\n",
       "    <tr>\n",
       "      <th>5839</th>\n",
       "      <td>According shipping company Viking Line , the E...</td>\n",
       "      <td>neutral</td>\n",
       "    </tr>\n",
       "    <tr>\n",
       "      <th>5840</th>\n",
       "      <td>In the building and home improvement trade , s...</td>\n",
       "      <td>neutral</td>\n",
       "    </tr>\n",
       "    <tr>\n",
       "      <th>5841</th>\n",
       "      <td>HELSINKI AFX - KCI Konecranes said it has won ...</td>\n",
       "      <td>positive</td>\n",
       "    </tr>\n",
       "  </tbody>\n",
       "</table>\n",
       "<p>5842 rows × 2 columns</p>\n",
       "</div>"
      ],
      "text/plain": [
       "                                               Sentence Sentiment\n",
       "0     The GeoSolutions technology will leverage Bene...  positive\n",
       "1     $ESI on lows, down $1.50 to $2.50 BK a real po...  negative\n",
       "2     For the last quarter of 2010 , Componenta 's n...  positive\n",
       "3     According to the Finnish-Russian Chamber of Co...   neutral\n",
       "4     The Swedish buyout firm has sold its remaining...   neutral\n",
       "...                                                 ...       ...\n",
       "5837  RISING costs have forced packaging producer Hu...  negative\n",
       "5838  Nordic Walking was first used as a summer trai...   neutral\n",
       "5839  According shipping company Viking Line , the E...   neutral\n",
       "5840  In the building and home improvement trade , s...   neutral\n",
       "5841  HELSINKI AFX - KCI Konecranes said it has won ...  positive\n",
       "\n",
       "[5842 rows x 2 columns]"
      ]
     },
     "execution_count": 6,
     "metadata": {},
     "output_type": "execute_result"
    }
   ],
   "source": [
    "df"
   ]
  },
  {
   "cell_type": "code",
   "execution_count": 9,
   "metadata": {},
   "outputs": [],
   "source": [
    "# 將資料類別編碼\n",
    "df['Sentiment'] = df['Sentiment'].map({'negative': 0, 'positive': 1})"
   ]
  },
  {
   "cell_type": "code",
   "execution_count": 11,
   "metadata": {},
   "outputs": [
    {
     "data": {
      "image/png": "[encoded data removed]",
      "text/plain": [
       "<Figure size 640x480 with 1 Axes>"
      ]
     },
     "metadata": {},
     "output_type": "display_data"
    }
   ],
   "source": [
    "import matplotlib.pyplot as plt\n",
    "import seaborn as sns\n",
    "# 統計0和1的次數\n",
    "sentiment_counts = df['Sentiment'].value_counts()\n",
    "\n",
    "# 繪製次數長條圖\n",
    "sns.barplot(x=sentiment_counts.index, y=sentiment_counts.values)\n",
    "\n",
    "# 設置圖表標題和標籤\n",
    "plt.title('情感次數')\n",
    "plt.xlabel('情感')\n",
    "plt.ylabel('次數')\n",
    "\n",
    "# 顯示圖表\n",
    "plt.show()"
   ]
  },
  {
   "attachments": {},
   "cell_type": "markdown",
   "metadata": {},
   "source": [
    "#　MODEL"
   ]
  },
  {
   "cell_type": "code",
   "execution_count": 12,
   "metadata": {},
   "outputs": [
    {
     "name": "stderr",
     "output_type": "stream",
     "text": [
      "Some weights of the model checkpoint at roberta-base were not used when initializing RobertaForSequenceClassification: ['lm_head.dense.weight', 'lm_head.layer_norm.bias', 'lm_head.layer_norm.weight', 'lm_head.dense.bias', 'roberta.pooler.dense.bias', 'lm_head.decoder.weight', 'roberta.pooler.dense.weight', 'lm_head.bias']\n",
      "- This IS expected if you are initializing RobertaForSequenceClassification from the checkpoint of a model trained on another task or with another architecture (e.g. initializing a BertForSequenceClassification model from a BertForPreTraining model).\n",
      "- This IS NOT expected if you are initializing RobertaForSequenceClassification from the checkpoint of a model that you expect to be exactly identical (initializing a BertForSequenceClassification model from a BertForSequenceClassification model).\n",
      "Some weights of RobertaForSequenceClassification were not initialized from the model checkpoint at roberta-base and are newly initialized: ['classifier.dense.weight', 'classifier.out_proj.weight', 'classifier.dense.bias', 'classifier.out_proj.bias']\n",
      "You should probably TRAIN this model on a down-stream task to be able to use it for predictions and inference.\n",
      "  0%|          | 9/4090 [00:15<1:54:18,  1.68s/it] \n",
      "Epochs 0/20. Running Loss:    0.1552: 100%|██████████| 86/86 [05:05<00:00,  3.55s/it]\n",
      "Epochs 1/20. Running Loss:    0.4253: 100%|██████████| 86/86 [02:34<00:00,  1.79s/it]\n",
      "Epochs 2/20. Running Loss:    0.1314: 100%|██████████| 86/86 [04:01<00:00,  2.81s/it]\n",
      "Epochs 3/20. Running Loss:    0.0045: 100%|██████████| 86/86 [04:27<00:00,  3.11s/it]\n",
      "Epochs 4/20. Running Loss:    0.0033: 100%|██████████| 86/86 [03:45<00:00,  2.62s/it]\n",
      "Epochs 5/20. Running Loss:    0.1480: 100%|██████████| 86/86 [02:44<00:00,  1.92s/it]\n",
      "Epochs 6/20. Running Loss:    0.0009: 100%|██████████| 86/86 [01:59<00:00,  1.39s/it]\n",
      "Epochs 7/20. Running Loss:    0.0007: 100%|██████████| 86/86 [01:52<00:00,  1.30s/it]\n",
      "Epochs 8/20. Running Loss:    0.0006: 100%|██████████| 86/86 [01:52<00:00,  1.31s/it]\n",
      "Epochs 9/20. Running Loss:    0.0003: 100%|██████████| 86/86 [01:52<00:00,  1.30s/it]\n",
      "Epochs 10/20. Running Loss:    0.0004: 100%|██████████| 86/86 [01:52<00:00,  1.30s/it]\n",
      "Epochs 11/20. Running Loss:    0.3223: 100%|██████████| 86/86 [01:52<00:00,  1.30s/it]\n",
      "Epochs 12/20. Running Loss:    0.0002: 100%|██████████| 86/86 [01:52<00:00,  1.30s/it]\n",
      "Epochs 13/20. Running Loss:    0.0003: 100%|██████████| 86/86 [01:52<00:00,  1.31s/it]\n",
      "Epochs 14/20. Running Loss:    0.0002: 100%|██████████| 86/86 [01:52<00:00,  1.30s/it]\n",
      "Epochs 15/20. Running Loss:    0.0002: 100%|██████████| 86/86 [01:52<00:00,  1.30s/it]\n",
      "Epochs 16/20. Running Loss:    0.0002: 100%|██████████| 86/86 [01:52<00:00,  1.30s/it]\n",
      "Epochs 17/20. Running Loss:    0.0002: 100%|██████████| 86/86 [01:51<00:00,  1.29s/it]\n",
      "Epochs 18/20. Running Loss:    0.0002: 100%|██████████| 86/86 [01:50<00:00,  1.29s/it]\n",
      "Epochs 19/20. Running Loss:    0.0002: 100%|██████████| 86/86 [01:50<00:00,  1.29s/it]\n",
      "Epoch 20 of 20: 100%|██████████| 20/20 [48:53<00:00, 146.67s/it]\n"
     ]
    },
    {
     "name": "stdout",
     "output_type": "stream",
     "text": [
      "[Train] It took 2957.025971 sec\n"
     ]
    },
    {
     "name": "stderr",
     "output_type": "stream",
     "text": [
      "  0%|          | 4/1753 [00:08<1:05:27,  2.25s/it]\n",
      "Running Evaluation: 100%|██████████| 37/37 [00:15<00:00,  2.43it/s]"
     ]
    },
    {
     "name": "stdout",
     "output_type": "stream",
     "text": [
      "result: {'mcc': 0.8464187930882822, 'eval_loss': 0.5431285639469688}, model_outputs: [[ 1.98242188  8.46875    -2.12890625 ... -1.90039062 -1.97363281\n",
      "  -2.03320312]\n",
      " [ 8.6015625   2.65234375 -2.12890625 ... -2.1875     -2.6484375\n",
      "  -2.3359375 ]\n",
      " [-1.43457031  9.4921875  -1.65136719 ... -1.35351562 -1.37597656\n",
      "  -1.68359375]\n",
      " ...\n",
      " [ 9.6796875  -0.72167969 -1.70117188 ... -1.89453125 -2.359375\n",
      "  -1.95703125]\n",
      " [ 9.640625   -1.55273438 -1.59667969 ... -1.70507812 -2.21289062\n",
      "  -1.83886719]\n",
      " [ 9.65625    -1.35644531 -1.63085938 ... -1.77636719 -2.24804688\n",
      "  -1.87304688]], wrong_predictions: [{'guid': 0, 'text_a': \"Sainsbury's, Asda, Tesco and Morrisons will all cut petrol prices as oil falls ...\", 'text_b': None, 'label': 0}, {'guid': 31, 'text_a': \"$IMRS - it's important to be pragmatic in analysis...high prices could offer head-winds....bullish story intact,evenif the market rolls over\", 'text_b': None, 'label': 1}, {'guid': 70, 'text_a': \"$FB churning in high volume @ IPO price. Lot's of sellers trying to get out. Might take a while here to consolidate before moving higher.\", 'text_b': None, 'label': 0}, {'guid': 105, 'text_a': 'The solutions will be used for upgrading the networks of a Russian MSO in 37 different cities in Russia .', 'text_b': None, 'label': 1}, {'guid': 111, 'text_a': 'Diageo Sells Ryder Cup Venue Gleneagles Hotel to Ennismore Group', 'text_b': None, 'label': 1}, {'guid': 119, 'text_a': \"UPDATE 5-SABMiller rejects AB InBev's $104 bln takeover approach\", 'text_b': None, 'label': 1}, {'guid': 169, 'text_a': 'CompaniesLSE adds ex-SEC head Schapiro to board', 'text_b': None, 'label': 0}, {'guid': 187, 'text_a': '$TSLA You have to love these types of articles. SS interest rose on 12/15 on day before we hit our lows. http://stks.co/c1QKr', 'text_b': None, 'label': 0}, {'guid': 193, 'text_a': 'According to Olvi , the company is already negotiating new agreements .', 'text_b': None, 'label': 0}, {'guid': 211, 'text_a': 'Kesko pursues a strategy of healthy , focused growth concentrating on sales and services to consumer-customers .', 'text_b': None, 'label': 1}, {'guid': 220, 'text_a': '@technik I still have a smaller $GILD pos. Being very tender with cash due to volatility. So reluctant to keep many big positions.', 'text_b': None, 'label': 1}, {'guid': 230, 'text_a': 'We went to the market with yield guidance of the 7.25 % area , which gave us the flexibility to go up or down by 1-8th .', 'text_b': None, 'label': 0}, {'guid': 264, 'text_a': '$HLF shorts made a killing last couple days, might make more if cover and buy back?', 'text_b': None, 'label': 0}, {'guid': 266, 'text_a': 'Commodity Channel Index Indicator signaled a Oversold for $FB #stockmarket https://t.co/VM32d3M9xi https://t.co/cvkojk05Xn', 'text_b': None, 'label': 1}, {'guid': 267, 'text_a': 'Technopolis has Finnish operations in Oulu , Vantaa , Espoo , Lappeenranta , Jyvaskyla and Tampere and is also preparing to expand its operations to Russia .', 'text_b': None, 'label': 0}, {'guid': 276, 'text_a': 'The other deal is for process cranes to the Russian steel mill PNTZ in Pervorouralsky through an order placed by Turkish construction company Gama Endustri Tesisleri Imalat ve Montaj AS .', 'text_b': None, 'label': 0}, {'guid': 291, 'text_a': \"`` Nokia 's Calling All Innovators Africa competition has been specifically launched to enable developers to create locally relevant , best-of-breed mobile applications . ''\", 'text_b': None, 'label': 1}, {'guid': 309, 'text_a': 'This order , when delivered , will bring the total output of electricity in Italy generated by Wartsila equipment to more than 1,300 MW .', 'text_b': None, 'label': 0}, {'guid': 323, 'text_a': 'Handelsbanken ranked before Local Cooperative Banks and Aktia in customer loyalty this time too , however .', 'text_b': None, 'label': 1}, {'guid': 338, 'text_a': \"$AAPL I'm sure those short are holding their breath hoping for a miracle. lol\", 'text_b': None, 'label': 1}, {'guid': 362, 'text_a': 'Compared with the FTSE 100 index , which rose 28.3 points or 0.5 % on the day , this was a relative price change of 2.3 % .', 'text_b': None, 'label': 1}, {'guid': 395, 'text_a': '@Intuitiv $CLNE gasoline prices spike in California. http://stks.co/t1bOi', 'text_b': None, 'label': 1}, {'guid': 398, 'text_a': 'Insurers: Admiral blows hot and cold but Aviva soars pre-Friends Life merger', 'text_b': None, 'label': 0}, {'guid': 424, 'text_a': 'The fair value of investment properties totalled EUR 2,299.9 mn , compared to EUR 2,229.5 mn in the corresponding period in 2009 .', 'text_b': None, 'label': 1}, {'guid': 434, 'text_a': 'The fund at fair value will increase correspondingly .', 'text_b': None, 'label': 1}, {'guid': 461, 'text_a': 'Operating profit totaled EUR 17.7 mn compared to EUR 17.6 mn in the corresponding period in 2007 .', 'text_b': None, 'label': 1}, {'guid': 473, 'text_a': 'The cooperation with airBaltic is expected to lead to the transfer of Finncomm to the ownership of airBaltic in time .', 'text_b': None, 'label': 0}, {'guid': 488, 'text_a': \"According to Finnish financial services group Sampo 's CEO , Bj+Ârn Wahlroos , Danish Danske Bank 's acquisition of Sampo Bank for EUR 4bn was the largest cash deal in Finland 's economic history .\", 'text_b': None, 'label': 0}, {'guid': 489, 'text_a': \"`` This transaction supports Huhtamaki 's strategic review of rigid plastic consumer goods operations '' , says Huhtam+ñki Oyj 's CEO Jukka Moisio .\", 'text_b': None, 'label': 0}, {'guid': 496, 'text_a': 'Locked in some $FB puts for nice gain', 'text_b': None, 'label': 0}, {'guid': 507, 'text_a': 'The seminar introduced modern , clean technologies and products , financial tools and sponsorship programs for energy and environment projects as well as the potential to develop clean energy in Vietnam .', 'text_b': None, 'label': 1}, {'guid': 509, 'text_a': 'Finnish food industry companies HK Ruokatalo and Atria will form a joint venture company called L+ñnsi-Kalkkuna to produce turkey meat .', 'text_b': None, 'label': 1}, {'guid': 535, 'text_a': \"`` In the newly formed company YIT Stavo the local contact network , expertise and market know how of Euro Stavokonsult will be combined with YIT 's housing concept , '' said Juha Kostiainen , Yit 's Vice President , Corporate Communications and Business Development .\", 'text_b': None, 'label': 1}, {'guid': 555, 'text_a': 'HSBC appoints business leaders to board', 'text_b': None, 'label': 1}, {'guid': 564, 'text_a': 'City CU Welcomes DART Members DALLAS-City CU welcomes the members of DART FCU as they merge with City CU .', 'text_b': None, 'label': 0}, {'guid': 588, 'text_a': 'Amazon to attack UK grocery market with Morrisons deal', 'text_b': None, 'label': 1}, {'guid': 606, 'text_a': \"Together they generate Aspo 's goodwill .\", 'text_b': None, 'label': 0}, {'guid': 613, 'text_a': 'Amer , which bought Salomon from adidas in October , said the job cuts are aimed at boosting competitiveness .', 'text_b': None, 'label': 0}, {'guid': 656, 'text_a': \"Under the agreement Benefon 's forthcoming range of TWIG integrated GPS navigation and mobile phone devices will use the jointly developed web-based tracking and location technology , in both consumer and commercial applications .\", 'text_b': None, 'label': 0}, {'guid': 675, 'text_a': 'On the basis of competitive bidding OOO Kitai Stroi , the Russian subsidiary of China State Construction Engineering Corporation , a construction company owned by China State , has been selected as the main constructor .', 'text_b': None, 'label': 0}, {'guid': 679, 'text_a': \"The deal is in line with Etteplan 's strategy to operate as a partner of global customers and provide industrial technology design services .\", 'text_b': None, 'label': 0}, {'guid': 684, 'text_a': '$TZA is a rocket ship!!!', 'text_b': None, 'label': 1}, {'guid': 689, 'text_a': 'Finnish industrial group Ruukki Group Plc OMX Helsinki : RUG1V said on Friday 14 November that its furniture business segment Incap Furniture has concluded personnel negotiations that were started at the end of September .', 'text_b': None, 'label': 0}, {'guid': 714, 'text_a': \"`` Korean consumers are tech-savvy and leading the pack in terms of design , '' Gill Hyun-chang , president of Motorola Korea Inc. , told Dow Jones Newswires in an interview .\", 'text_b': None, 'label': 0}, {'guid': 716, 'text_a': '$ACOM http://stks.co/1G6x Downside breakout looks to be coming soon.', 'text_b': None, 'label': 0}, {'guid': 721, 'text_a': '$AAPL Action into the close indicates that $AAPL probably hit a near term high.  Momentum slowing after a huge run.', 'text_b': None, 'label': 1}, {'guid': 727, 'text_a': 'volatility squeeze in $AAPL. I hope it gets resolved to the upside', 'text_b': None, 'label': 0}, {'guid': 735, 'text_a': 'According to Finnish pension insurance company Varma , Varma was the recipient of over two thirds of the revenue of the earnings-related pension cover that was under competitive tendering in Finland .', 'text_b': None, 'label': 1}, {'guid': 739, 'text_a': 'These savings will have full impact as of the beginning of 2007 .', 'text_b': None, 'label': 0}, {'guid': 755, 'text_a': 'To achieve synergy targets related to the acquisition , Vaisala is consolidating its manufacturing , depot and data services , and finance activities currently located in Uniontown , Pennsylvania , St. Louis , Missouri and Durham , North Carolina .', 'text_b': None, 'label': 0}, {'guid': 774, 'text_a': 'It grew in Finland , Norway , Denmark and the Baltic countries .', 'text_b': None, 'label': 0}, {'guid': 775, 'text_a': \"Should you buy Associated British Foods plc, Great Portland Estates plc and Dunelm Group plc following today's news?\", 'text_b': None, 'label': 1}, {'guid': 787, 'text_a': \"The GeoSolutions technology will leverage Benefon 's GPS solutions by providing Location Based Search Technology , a Communities Platform , location relevant multimedia content and a new and powerful commercial model .\", 'text_b': None, 'label': 1}, {'guid': 811, 'text_a': 'With the government exempting certain stainless steel products from anti-dumping duties , Finland-based Outokumpu today said it will look to enter into supply pacts with the Indian Railways soon .', 'text_b': None, 'label': 0}, {'guid': 818, 'text_a': 'Paper company M-real calculated that if 100,000 biscuit cartons are made using a 25gsm lighter board , the CO2 saved over the course of 12 months would be equal to that generated by driving 1,000 km by car .', 'text_b': None, 'label': 0}, {'guid': 860, 'text_a': \"`` We reached agreement with the union that flights will continue as normal , '' Finnair spokesman Usko Maatta said .\", 'text_b': None, 'label': 1}, {'guid': 873, 'text_a': 'In future , the company intends to look for know-how from outside the company and to cooperate with other actors in the sector .', 'text_b': None, 'label': 1}, {'guid': 884, 'text_a': \"The first quarter was as expected and was in line with analysts ' forecasts .\", 'text_b': None, 'label': 0}, {'guid': 896, 'text_a': 'Entertainment One dispels ITV takeover rumours', 'text_b': None, 'label': 1}, {'guid': 899, 'text_a': '$SPY bull move ended waiting for next setup', 'text_b': None, 'label': 0}, {'guid': 910, 'text_a': 'Ixonos estimates that it will hire 20 specialists in mechanical engineering , electronics design , and R&D for its new unit in Jyvaeskylae by the end of 2009 .', 'text_b': None, 'label': 1}, {'guid': 918, 'text_a': 'RT @tomhend777 $MU needs to hold here -Broken for now. Needs big flush. Still not technically oversold so now big bounce yet', 'text_b': None, 'label': 0}, {'guid': 931, 'text_a': \"Okmetic 's products are based on high-tech expertise that generates added value for customers , innovative product development and an extremely efficient production process .\", 'text_b': None, 'label': 1}, {'guid': 955, 'text_a': 'HELSINKI ( Thomson Financial ) - M-real said it will exercise an option to buy a 50MW natural gas power plant and land in Kyroskoski , Finland , for around 13 mln eur from Kyro Oyj .', 'text_b': None, 'label': 1}, {'guid': 971, 'text_a': 'The company supports its global customers in developing new technologies and offers a fast route from product development to applications and volume production .', 'text_b': None, 'label': 0}, {'guid': 977, 'text_a': 'Its main business area , the Glass Machinery Group of Glaston Technologies , is the global market leader in glass processing machines .', 'text_b': None, 'label': 1}, {'guid': 1019, 'text_a': 'Atria chose the DeLight to attract consumers in the 25-45 age group to its Atria Fresh range of microwaveable meals .', 'text_b': None, 'label': 0}, {'guid': 1050, 'text_a': \"The company plans to increase the unit 's specialist staff to several dozen -- depending on the market situation during 2010 .\", 'text_b': None, 'label': 0}, {'guid': 1053, 'text_a': 'According to Kesko , the company agreed with the city administration about lease of the building in 2006 , its resettlement and construction of a five-star hotel Hilton for 120 rooms .', 'text_b': None, 'label': 1}, {'guid': 1060, 'text_a': '---------------------------------------------------------------------- -------------- Munich , 14 January 2008 : BAVARIA Industriekapital AG closed the acquisition of Elcoteq Communications Technology GmbH in Offenburg , Germany , with the approval of the', 'text_b': None, 'label': 0}, {'guid': 1090, 'text_a': 'Aldata noted that its Voice Supply Chain Technology approach enables VDW to integrate with warehouse management systems .', 'text_b': None, 'label': 0}, {'guid': 1094, 'text_a': '`` Marimekko aims to expand its distribution network primarily by increasing the number of concept stores and shop-in-shops .', 'text_b': None, 'label': 0}, {'guid': 1100, 'text_a': 'Tesco sells half of stake in ecommerce site Lazada to Alibaba for Â£90m', 'text_b': None, 'label': 0}, {'guid': 1103, 'text_a': 'Laavainen said Benecol was well known in Europe and the US , where it had been in the market for 15 years .', 'text_b': None, 'label': 0}, {'guid': 1125, 'text_a': 'Should You Follow Berkshire Hathaway Into Apple Stock?', 'text_b': None, 'label': 0}, {'guid': 1128, 'text_a': \"I don't see it. 200 day sma is the big hurdle. There is a good base building. $NFLX  https://t.co/ImKYGO2cyc\", 'text_b': None, 'label': 1}, {'guid': 1137, 'text_a': '$MFLX up  pre mkt. Looks like GAP has been filled....lookin 4 short opt here', 'text_b': None, 'label': 0}, {'guid': 1150, 'text_a': \"It 's even a little bit higher than Yara 's multiples on itself , ' an analyst in Helsinki said .\", 'text_b': None, 'label': 0}, {'guid': 1193, 'text_a': 'Solidium picked up Tikkurila shares as a dividend at a book value of EUR15 .80 per share .', 'text_b': None, 'label': 0}, {'guid': 1195, 'text_a': '$PLUG Closed short position. Small gain. Not interested in options expiring worthless', 'text_b': None, 'label': 1}, {'guid': 1221, 'text_a': \"Through its partnership with Finnish Paulig 's Danish subsidiary Oscar , Puljonki acquired a sales organization in the European market .\", 'text_b': None, 'label': 0}, {'guid': 1235, 'text_a': 'Long $TSLA short $MBLY https://t.co/jSpUSzo6na', 'text_b': None, 'label': 1}, {'guid': 1252, 'text_a': \"The sale of the food potato business is part of Raisio 's plan to streamline and clarify its business operations .\", 'text_b': None, 'label': 0}, {'guid': 1274, 'text_a': 'Finnish property investment company Citycon will expand and refurbish +àkersberga shopping center in Stockholm , in Sweden .', 'text_b': None, 'label': 0}, {'guid': 1283, 'text_a': 'Its total annual revenue comes up to about 160 mln zloty ( $ 56.9 mln-42 .3 mln euro ) .', 'text_b': None, 'label': 0}, {'guid': 1296, 'text_a': \"The Group 's business is balanced by its broad portfolio of sports and presence in all major markets .\", 'text_b': None, 'label': 1}, {'guid': 1335, 'text_a': \"The company expects its net sales in the first half of 2008 to reach the previous year 's level .\", 'text_b': None, 'label': 1}, {'guid': 1360, 'text_a': \"Stockmann was established in 1862 in Finland and it became the first foreign company to enter Russia 's retail trade market in 1989 .\", 'text_b': None, 'label': 0}, {'guid': 1386, 'text_a': 'The District Court of Helsinki dismissed all charges as the court of first instance in 2005 .', 'text_b': None, 'label': 1}, {'guid': 1396, 'text_a': '$AGN and $PYPL under pressure along with the market, however there were bullish options trades in both this morning https://t.co/9xG5W8nONT', 'text_b': None, 'label': 0}, {'guid': 1404, 'text_a': 'It will use the proceeds from the transaction to achieve its target .', 'text_b': None, 'label': 0}, {'guid': 1410, 'text_a': 'It s an area that is highly valued , because most of the land there has already been built on .', 'text_b': None, 'label': 0}, {'guid': 1412, 'text_a': 'YIT acquired investment rights to a 10,000 square metre residential project in Yaroslavl and to a 16,400 square metre project in Moscow .', 'text_b': None, 'label': 0}, {'guid': 1423, 'text_a': 'Homeowners across North America have green experiences to share from cost savings to clean and eco-friendly heating .', 'text_b': None, 'label': 0}, {'guid': 1459, 'text_a': \"$IDCC - $89 share total value of company after crunching #'s. The 4g technology is their diamond in the rough.\", 'text_b': None, 'label': 1}, {'guid': 1465, 'text_a': '$AMZN trades in mid to upper range. No break out yet, either direction', 'text_b': None, 'label': 0}, {'guid': 1499, 'text_a': '`` Leipurin is a growing and rapidly internationalizing Group .', 'text_b': None, 'label': 1}, {'guid': 1500, 'text_a': \"Seat belt recall? who cares....  I'm a buyer $TSLA\", 'text_b': None, 'label': 1}, {'guid': 1504, 'text_a': '$VRTX Vertex. Monthly -lower hi/lower lo,  Long term uptrend intract so far', 'text_b': None, 'label': 1}, {'guid': 1509, 'text_a': \"The product 's front-edge folding maximizes weather resilience and enables a seamless roof finish .\", 'text_b': None, 'label': 0}, {'guid': 1514, 'text_a': \"We look forward to take part in the future development of the company , '' says Tomas Billing , President of Nordstjernan .\", 'text_b': None, 'label': 0}, {'guid': 1526, 'text_a': 'Following the transaction , Lundbeck has worldwide rights for nalmefene , excluding North America , Mexico , Turkey and South-Korea .', 'text_b': None, 'label': 1}, {'guid': 1540, 'text_a': 'NORDIC BUSINESS REPORT-17 January 2006-Efore Plc inaugurates new plant in Estonia -® 1998-2006 M2 COMMUNICATIONS LTD Finnish power electronics manufacturer Efore Plc said on Tuesday ( 17 January ) that it was inaugurating its new plant in Parnu , Estonia .', 'text_b': None, 'label': 0}, {'guid': 1556, 'text_a': 'RT @stockdemons think shorting here into close might be play, $SPY - high beta reversing..looks worth a shot', 'text_b': None, 'label': 0}, {'guid': 1591, 'text_a': 'The earnings in the comparative period included a capital gain of EUR 8mn from the sale of OMX shares .', 'text_b': None, 'label': 0}, {'guid': 1604, 'text_a': \"`` They would invest not only in the physical infrastructure , but would also provide know-how for managing and developing science and technology parks , '' said Sunrise Valley director Andrius Bagdonas .\", 'text_b': None, 'label': 1}, {'guid': 1612, 'text_a': \"Credit Suisse poaches Prudential's Thiam for Asian push\", 'text_b': None, 'label': 1}, {'guid': 1619, 'text_a': 'Etteplan targets to employ at least 20 people in Borl+ñnge .', 'text_b': None, 'label': 1}, {'guid': 1628, 'text_a': 'YIT says the acquisition is a part of its strategy for expansion in Central and Eastern European markets .', 'text_b': None, 'label': 1}, {'guid': 1629, 'text_a': 'Sales boost for new Morrisons chief David Potts as Tesco turnaround stalls', 'text_b': None, 'label': 0}, {'guid': 1636, 'text_a': 'The Moscow Metro ( www.mosmetro.ru ) was the first metro system in Europe to implement smart cards together with a new type of magnetic card in 1998 .', 'text_b': None, 'label': 0}, {'guid': 1642, 'text_a': \"Teleste BK Optiflex amplifier products will be used in ongoing capacity upgrade of KDG 's network to bi-directionality .\", 'text_b': None, 'label': 0}, {'guid': 1665, 'text_a': 'The StoneGate product family was designed to provide the full benefits of a unified management system including shared logging , reporting and auditing .', 'text_b': None, 'label': 0}, {'guid': 1680, 'text_a': 'Covered my small $MWW short @ 7.99 for a .16 loss. Flat on the day. All cash now.', 'text_b': None, 'label': 1}, {'guid': 1684, 'text_a': 'When this investment is in place , Atria plans to expand into the Moscow market .', 'text_b': None, 'label': 0}, {'guid': 1717, 'text_a': 'Stakes High for AstraZeneca Heart Drug Facing Tough Competition', 'text_b': None, 'label': 0}, {'guid': 1740, 'text_a': '$TSLA TO RECALL 2,700 MODEL X SUVS FOR SEAT-BELT FIX', 'text_b': None, 'label': 0}]\n",
      "[Evaluation] It took 24.476001 sec\n"
     ]
    },
    {
     "name": "stderr",
     "output_type": "stream",
     "text": [
      "\n"
     ]
    }
   ],
   "source": [
    "import pandas as pd\n",
    "import time\n",
    "import torch\n",
    "from simpletransformers.classification import ClassificationModel, ClassificationArgs\n",
    "\n",
    "def train():\n",
    "    tStartTrain = time.time()\n",
    "\n",
    "    train_data = []\n",
    "\n",
    "    train_aidea_csv = pd.read_csv('Financial Sentiment Analysis.csv', escapechar='\\\\', header=None)\n",
    "    list_dataset_train_aidea = train_aidea_csv.values.tolist()\n",
    "\n",
    "    # 將類別編碼為 0 和 1\n",
    "    train_data = [[dataset[0], 1 if dataset[1] == \"positive\" else 0] for dataset in list_dataset_train_aidea]\n",
    "\n",
    "    # 將資料拆分為訓練、測試\n",
    "    random.shuffle(train_data)\n",
    "    middle = int(len(train_data) * 0.7)\n",
    "    list_train = train_data[:middle]\n",
    "    list_eval = train_data[middle:]\n",
    "\n",
    "    # 模型選擇與超參數設定\n",
    "    model_name_main = 'roberta-base'\n",
    "    batch_size = 48\n",
    "    epoch = 20\n",
    "    output_dir = f\"outputs/{model_name_main}-bs-{batch_size}-ep-{epoch}-cls-model/\"\n",
    "\n",
    "    model_args = ClassificationArgs()\n",
    "    model_args.train_batch_size = batch_size\n",
    "    model_args.num_train_epochs = epoch\n",
    "    model_args.overwrite_output_dir = True\n",
    "    model_args.reprocess_input_data = True\n",
    "    model_args.use_multiprocessing = True\n",
    "    model_args.save_model_every_epoch = False\n",
    "    model_args.save_steps = -1\n",
    "    model_args.learning_rate = 4e-5\n",
    "    model_args.output_dir = output_dir\n",
    "\n",
    "    model_args.use_early_stopping = True\n",
    "    model_args.evaluate_during_training = False\n",
    "    model_args.eval_batch_size = batch_size\n",
    "    model_args.use_multiprocessing_for_evaluation = True\n",
    "    model_args.evaluate_during_training_steps = 500\n",
    "\n",
    "    model = ClassificationModel(\n",
    "        'roberta',\n",
    "        model_name_main,\n",
    "        use_cuda=torch.cuda.is_available(),\n",
    "        cuda_device=0,\n",
    "        num_labels=2,\n",
    "        args=model_args\n",
    "    )\n",
    "    # 將LIST轉為DATAFRAME\n",
    "    train_df = pd.DataFrame(list_train, columns=[\"text\", \"labels\"])\n",
    "    eval_df = pd.DataFrame(list_eval, columns=[\"text\", \"labels\"])\n",
    "    # 調整類別權重(因原生DATA類別不平衡 加強少數類別學習)\n",
    "    label_counts = train_df['labels'].value_counts().to_dict()\n",
    "    total_samples = train_df.shape[0]\n",
    "    class_weights = {label: total_samples / count for label, count in label_counts.items()}\n",
    "\n",
    "    model_args.class_weight = class_weights\n",
    "\n",
    "    model.train_model(train_df, eval_df=eval_df, class_weights=class_weights)\n",
    "    # 訓練及驗證花費時間\n",
    "    tEndTrain = time.time()\n",
    "    print(\"[Train] It took %f sec\" % (tEndTrain - tStartTrain))\n",
    "\n",
    "    tStartEval = time.time()\n",
    "\n",
    "    result, model_outputs, wrong_predictions = model.eval_model(eval_df)\n",
    "    print(f\"result: {result}, model_outputs: {model_outputs}, wrong_predictions: {wrong_predictions}\")\n",
    "\n",
    "    tEndEval = time.time()\n",
    "    print(\"[Evaluation] It took %f sec\" % (tEndEval - tStartEval))\n",
    "\n",
    "if __name__ == \"__main__\":\n",
    "    train()\n"
   ]
  }
 ],
 "metadata": {
  "kernelspec": {
   "display_name": "sst",
   "language": "python",
   "name": "python3"
  },
  "language_info": {
   "codemirror_mode": {
    "name": "ipython",
    "version": 3
   },
   "file_extension": ".py",
   "mimetype": "text/x-python",
   "name": "python",
   "nbconvert_exporter": "python",
   "pygments_lexer": "ipython3",
   "version": "3.10.10"
  },
  "orig_nbformat": 4
 },
 "nbformat": 4,
 "nbformat_minor": 2
}
